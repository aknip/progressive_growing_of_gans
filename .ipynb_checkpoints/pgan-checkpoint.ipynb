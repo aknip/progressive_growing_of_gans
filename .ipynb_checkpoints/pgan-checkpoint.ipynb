{
 "cells": [
  {
   "cell_type": "markdown",
   "metadata": {},
   "source": [
    "created on c7 east coast"
   ]
  },
  {
   "cell_type": "markdown",
   "metadata": {},
   "source": [
    "## Prep"
   ]
  },
  {
   "cell_type": "code",
   "execution_count": null,
   "metadata": {},
   "outputs": [],
   "source": [
    "!pip install requests"
   ]
  },
  {
   "cell_type": "code",
   "execution_count": 1,
   "metadata": {},
   "outputs": [],
   "source": [
    "# https://github.com/nsadawi/Download-Large-File-From-Google-Drive-Using-Python/blob/master/Download-Large-File-from-Google-Drive.ipynb\n",
    "\n",
    "#taken from this StackOverflow answer: https://stackoverflow.com/a/39225039\n",
    "import requests\n",
    "\n",
    "def download_file_from_google_drive(id, destination):\n",
    "    URL = \"https://docs.google.com/uc?export=download\"\n",
    "\n",
    "    session = requests.Session()\n",
    "\n",
    "    response = session.get(URL, params = { 'id' : id }, stream = True)\n",
    "    token = get_confirm_token(response)\n",
    "\n",
    "    if token:\n",
    "        params = { 'id' : id, 'confirm' : token }\n",
    "        response = session.get(URL, params = params, stream = True)\n",
    "\n",
    "    save_response_content(response, destination)    \n",
    "\n",
    "def get_confirm_token(response):\n",
    "    for key, value in response.cookies.items():\n",
    "        if key.startswith('download_warning'):\n",
    "            return value\n",
    "\n",
    "    return None\n",
    "\n",
    "def save_response_content(response, destination):\n",
    "    CHUNK_SIZE = 32768\n",
    "\n",
    "    with open(destination, \"wb\") as f:\n",
    "        for chunk in response.iter_content(CHUNK_SIZE):\n",
    "            if chunk: # filter out keep-alive new chunks\n",
    "                f.write(chunk)"
   ]
  },
  {
   "cell_type": "code",
   "execution_count": 5,
   "metadata": {},
   "outputs": [],
   "source": [
    "#https://drive.google.com/open?id=19IW_CWna76GQhdm98wonYSlSpLBJczzu\n",
    "file_id = '19IW_CWna76GQhdm98wonYSlSpLBJczzu'\n",
    "destination = '/storage/pgan.zip'\n",
    "download_file_from_google_drive(file_id, destination)"
   ]
  },
  {
   "cell_type": "code",
   "execution_count": null,
   "metadata": {},
   "outputs": [],
   "source": [
    "!unzip /storage/pgan.zip -d /storage"
   ]
  },
  {
   "cell_type": "code",
   "execution_count": 24,
   "metadata": {},
   "outputs": [],
   "source": [
    "!rm pgan.zip"
   ]
  },
  {
   "cell_type": "code",
   "execution_count": 2,
   "metadata": {
    "scrolled": true
   },
   "outputs": [
    {
     "name": "stdout",
     "output_type": "stream",
     "text": [
      "total 500K\r\n",
      "drwxrwxr-x 7 root root 4.0K Oct  9 19:52 .\r\n",
      "drwxr-xr-x 5 root root 4.0K Oct  9 19:52 ..\r\n",
      "drwxr-xr-x 2 root root 4.0K Oct  9 19:52 .ipynb_checkpoints\r\n",
      "-rwxrwxr-x 1 root root  19K Oct  8 14:59 LICENSE.txt\r\n",
      "-rw-rw-r-- 1 root root  16K Oct  8 14:59 README.md\r\n",
      "-rw-rw-r-- 1 root root  415 Oct  8 15:10 _MY_NOTES.TXT\r\n",
      "drwxrwxr-x 2 root root 4.0K Oct  8 15:00 _backup_py\r\n",
      "drwxrwxr-x 2 root root 4.0K Oct  7 16:41 celebahq-100-jpg\r\n",
      "-rwxrwxr-x 1 root root  13K Oct  8 15:08 config.py\r\n",
      "-rwxrwxr-x 1 root root  13K Oct  8 14:59 config_ORIGINAL.py\r\n",
      "-rwxrwxr-x 1 root root  12K Oct  8 14:59 dataset.py\r\n",
      "-rwxrwxr-x 1 root root  35K Oct  8 14:59 dataset_tool.py\r\n",
      "drwxrwxr-x 3 root root 4.0K Oct  9 15:16 datasets\r\n",
      "-rwxrwxr-x 1 root root 5.2K Oct  8 14:59 legacy.py\r\n",
      "-rwxrwxr-x 1 root root 4.4K Oct  8 14:59 loss.py\r\n",
      "drwxrwxr-x 2 root root 4.0K Sep 16 16:33 metrics\r\n",
      "-rwxrwxr-x 1 root root  13K Oct  8 14:59 misc.py\r\n",
      "-rwxrwxr-x 1 root root  17K Oct  8 14:59 networks.py\r\n",
      "-rw-r--r-- 1 root root  19K Oct  9 19:52 pgan.ipynb\r\n",
      "-rwxrwxr-x 1 root root 207K Sep 16 16:33 representative_image_512x256.png\r\n",
      "-rwxrwxr-x 1 root root  159 Oct  8 14:59 requirements-pip.txt\r\n",
      "-rwxrwxr-x 1 root root  37K Oct  8 14:59 tfutil.py\r\n",
      "-rwxrwxr-x 1 root root  16K Oct  8 15:11 train.py\r\n",
      "-rwxrwxr-x 1 root root  12K Oct  8 14:59 util_scripts.py\r\n"
     ]
    }
   ],
   "source": [
    "!ls -lah"
   ]
  },
  {
   "cell_type": "markdown",
   "metadata": {},
   "source": [
    "# Start"
   ]
  },
  {
   "cell_type": "code",
   "execution_count": null,
   "metadata": {},
   "outputs": [],
   "source": [
    "!pip install -r requirements-pip.txt"
   ]
  },
  {
   "cell_type": "code",
   "execution_count": 3,
   "metadata": {},
   "outputs": [],
   "source": [
    "import dataset_tool"
   ]
  },
  {
   "cell_type": "code",
   "execution_count": 9,
   "metadata": {},
   "outputs": [
    {
     "name": "stdout",
     "output_type": "stream",
     "text": [
      "Loading images from \"celebahq-100-jpg\"\n",
      "Creating dataset \"datasets/teschtxxx\"\n",
      "Added 100 images.                       \n"
     ]
    }
   ],
   "source": [
    "dataset_tool.create_from_images('datasets/celebahq100','celebahq-100-jpg', 1)"
   ]
  },
  {
   "cell_type": "code",
   "execution_count": 2,
   "metadata": {},
   "outputs": [
    {
     "name": "stderr",
     "output_type": "stream",
     "text": [
      "/usr/local/lib/python3.5/dist-packages/h5py/__init__.py:36: FutureWarning: Conversion of the second argument of issubdtype from `float` to `np.floating` is deprecated. In future, it will be treated as `np.float64 == np.dtype(float).type`.\n",
      "  from ._conv import register_converters as _register_converters\n"
     ]
    }
   ],
   "source": [
    "import train"
   ]
  },
  {
   "cell_type": "code",
   "execution_count": 3,
   "metadata": {},
   "outputs": [],
   "source": [
    "!rm -r results/001-pgan-celebahq100-preset-v2-1gpu-fp32"
   ]
  },
  {
   "cell_type": "code",
   "execution_count": null,
   "metadata": {},
   "outputs": [
    {
     "name": "stdout",
     "output_type": "stream",
     "text": [
      "/usr/local/lib/python3.5/dist-packages/h5py/__init__.py:36: FutureWarning: Conversion of the second argument of issubdtype from `float` to `np.floating` is deprecated. In future, it will be treated as `np.float64 == np.dtype(float).type`.\n",
      "  from ._conv import register_converters as _register_converters\n",
      "Initializing TensorFlow...\n",
      "Running train.train_progressive_gan()...\n",
      "Streaming data using dataset.TFRecordDataset...\n",
      "Dataset shape = [3, 1024, 1024]\n",
      "Dynamic range = [0, 255]\n",
      "Label size    = 0\n",
      "Constructing networks...\n",
      "\n",
      "G                           Params      OutputShape             WeightShape             \n",
      "---                         ---         ---                     ---                     \n",
      "latents_in                  -           (?, 512)                -                       \n",
      "labels_in                   -           (?, 0)                  -                       \n",
      "lod                         -           ()                      -                       \n",
      "4x4/PixelNorm               -           (?, 512)                -                       \n",
      "4x4/Dense                   4194816     (?, 512, 4, 4)          (512, 8192)             \n",
      "4x4/Conv                    2359808     (?, 512, 4, 4)          (3, 3, 512, 512)        \n",
      "ToRGB_lod8                  1539        (?, 3, 4, 4)            (1, 1, 512, 3)          \n",
      "8x8/Conv0_up                2359808     (?, 512, 8, 8)          (3, 3, 512, 512)        \n",
      "8x8/Conv1                   2359808     (?, 512, 8, 8)          (3, 3, 512, 512)        \n",
      "ToRGB_lod7                  1539        (?, 3, 8, 8)            (1, 1, 512, 3)          \n",
      "Upscale2D                   -           (?, 3, 8, 8)            -                       \n",
      "Grow_lod7                   -           (?, 3, 8, 8)            -                       \n",
      "16x16/Conv0_up              2359808     (?, 512, 16, 16)        (3, 3, 512, 512)        \n",
      "16x16/Conv1                 2359808     (?, 512, 16, 16)        (3, 3, 512, 512)        \n",
      "ToRGB_lod6                  1539        (?, 3, 16, 16)          (1, 1, 512, 3)          \n",
      "Upscale2D_1                 -           (?, 3, 16, 16)          -                       \n",
      "Grow_lod6                   -           (?, 3, 16, 16)          -                       \n",
      "32x32/Conv0_up              2359808     (?, 512, 32, 32)        (3, 3, 512, 512)        \n",
      "32x32/Conv1                 2359808     (?, 512, 32, 32)        (3, 3, 512, 512)        \n",
      "ToRGB_lod5                  1539        (?, 3, 32, 32)          (1, 1, 512, 3)          \n",
      "Upscale2D_2                 -           (?, 3, 32, 32)          -                       \n",
      "Grow_lod5                   -           (?, 3, 32, 32)          -                       \n",
      "64x64/Conv0_up              1179904     (?, 256, 64, 64)        (3, 3, 256, 512)        \n",
      "64x64/Conv1                 590080      (?, 256, 64, 64)        (3, 3, 256, 256)        \n",
      "ToRGB_lod4                  771         (?, 3, 64, 64)          (1, 1, 256, 3)          \n",
      "Upscale2D_3                 -           (?, 3, 64, 64)          -                       \n",
      "Grow_lod4                   -           (?, 3, 64, 64)          -                       \n",
      "128x128/Conv0_up            295040      (?, 128, 128, 128)      (3, 3, 128, 256)        \n",
      "128x128/Conv1               147584      (?, 128, 128, 128)      (3, 3, 128, 128)        \n",
      "ToRGB_lod3                  387         (?, 3, 128, 128)        (1, 1, 128, 3)          \n",
      "Upscale2D_4                 -           (?, 3, 128, 128)        -                       \n",
      "Grow_lod3                   -           (?, 3, 128, 128)        -                       \n",
      "256x256/Conv0_up            73792       (?, 64, 256, 256)       (3, 3, 64, 128)         \n",
      "256x256/Conv1               36928       (?, 64, 256, 256)       (3, 3, 64, 64)          \n",
      "ToRGB_lod2                  195         (?, 3, 256, 256)        (1, 1, 64, 3)           \n",
      "Upscale2D_5                 -           (?, 3, 256, 256)        -                       \n",
      "Grow_lod2                   -           (?, 3, 256, 256)        -                       \n",
      "512x512/Conv0_up            18464       (?, 32, 512, 512)       (3, 3, 32, 64)          \n",
      "512x512/Conv1               9248        (?, 32, 512, 512)       (3, 3, 32, 32)          \n",
      "ToRGB_lod1                  99          (?, 3, 512, 512)        (1, 1, 32, 3)           \n",
      "Upscale2D_6                 -           (?, 3, 512, 512)        -                       \n",
      "Grow_lod1                   -           (?, 3, 512, 512)        -                       \n",
      "1024x1024/Conv0_up          4624        (?, 16, 1024, 1024)     (3, 3, 16, 32)          \n",
      "1024x1024/Conv1             2320        (?, 16, 1024, 1024)     (3, 3, 16, 16)          \n",
      "ToRGB_lod0                  51          (?, 3, 1024, 1024)      (1, 1, 16, 3)           \n",
      "Upscale2D_7                 -           (?, 3, 1024, 1024)      -                       \n",
      "Grow_lod0                   -           (?, 3, 1024, 1024)      -                       \n",
      "images_out                  -           (?, 3, 1024, 1024)      -                       \n",
      "---                         ---         ---                     ---                     \n",
      "Total                       23079115                                                    \n",
      "\n",
      "\n",
      "D                           Params      OutputShape             WeightShape             \n",
      "---                         ---         ---                     ---                     \n",
      "images_in                   -           (?, 3, 1024, 1024)      -                       \n",
      "lod                         -           ()                      -                       \n",
      "FromRGB_lod0                64          (?, 16, 1024, 1024)     (1, 1, 3, 16)           \n",
      "1024x1024/Conv0             2320        (?, 16, 1024, 1024)     (3, 3, 16, 16)          \n",
      "1024x1024/Conv1_down        4640        (?, 32, 512, 512)       (3, 3, 16, 32)          \n",
      "Downscale2D                 -           (?, 3, 512, 512)        -                       \n",
      "FromRGB_lod1                128         (?, 32, 512, 512)       (1, 1, 3, 32)           \n",
      "Grow_lod0                   -           (?, 32, 512, 512)       -                       \n",
      "512x512/Conv0               9248        (?, 32, 512, 512)       (3, 3, 32, 32)          \n",
      "512x512/Conv1_down          18496       (?, 64, 256, 256)       (3, 3, 32, 64)          \n",
      "Downscale2D_1               -           (?, 3, 256, 256)        -                       \n",
      "FromRGB_lod2                256         (?, 64, 256, 256)       (1, 1, 3, 64)           \n",
      "Grow_lod1                   -           (?, 64, 256, 256)       -                       \n",
      "256x256/Conv0               36928       (?, 64, 256, 256)       (3, 3, 64, 64)          \n",
      "256x256/Conv1_down          73856       (?, 128, 128, 128)      (3, 3, 64, 128)         \n",
      "Downscale2D_2               -           (?, 3, 128, 128)        -                       \n",
      "FromRGB_lod3                512         (?, 128, 128, 128)      (1, 1, 3, 128)          \n",
      "Grow_lod2                   -           (?, 128, 128, 128)      -                       \n",
      "128x128/Conv0               147584      (?, 128, 128, 128)      (3, 3, 128, 128)        \n",
      "128x128/Conv1_down          295168      (?, 256, 64, 64)        (3, 3, 128, 256)        \n",
      "Downscale2D_3               -           (?, 3, 64, 64)          -                       \n",
      "FromRGB_lod4                1024        (?, 256, 64, 64)        (1, 1, 3, 256)          \n",
      "Grow_lod3                   -           (?, 256, 64, 64)        -                       \n",
      "64x64/Conv0                 590080      (?, 256, 64, 64)        (3, 3, 256, 256)        \n",
      "64x64/Conv1_down            1180160     (?, 512, 32, 32)        (3, 3, 256, 512)        \n",
      "Downscale2D_4               -           (?, 3, 32, 32)          -                       \n",
      "FromRGB_lod5                2048        (?, 512, 32, 32)        (1, 1, 3, 512)          \n",
      "Grow_lod4                   -           (?, 512, 32, 32)        -                       \n",
      "32x32/Conv0                 2359808     (?, 512, 32, 32)        (3, 3, 512, 512)        \n",
      "32x32/Conv1_down            2359808     (?, 512, 16, 16)        (3, 3, 512, 512)        \n",
      "Downscale2D_5               -           (?, 3, 16, 16)          -                       \n",
      "FromRGB_lod6                2048        (?, 512, 16, 16)        (1, 1, 3, 512)          \n",
      "Grow_lod5                   -           (?, 512, 16, 16)        -                       \n",
      "16x16/Conv0                 2359808     (?, 512, 16, 16)        (3, 3, 512, 512)        \n",
      "16x16/Conv1_down            2359808     (?, 512, 8, 8)          (3, 3, 512, 512)        \n",
      "Downscale2D_6               -           (?, 3, 8, 8)            -                       \n",
      "FromRGB_lod7                2048        (?, 512, 8, 8)          (1, 1, 3, 512)          \n",
      "Grow_lod6                   -           (?, 512, 8, 8)          -                       \n",
      "8x8/Conv0                   2359808     (?, 512, 8, 8)          (3, 3, 512, 512)        \n",
      "8x8/Conv1_down              2359808     (?, 512, 4, 4)          (3, 3, 512, 512)        \n",
      "Downscale2D_7               -           (?, 3, 4, 4)            -                       \n",
      "FromRGB_lod8                2048        (?, 512, 4, 4)          (1, 1, 3, 512)          \n",
      "Grow_lod7                   -           (?, 512, 4, 4)          -                       \n",
      "4x4/MinibatchStddev         -           (?, 1, 4, 4)            -                       \n",
      "4x4/Conv                    2364416     (?, 512, 4, 4)          (3, 3, 513, 512)        \n",
      "4x4/Dense0                  4194816     (?, 512)                (8192, 512)             \n",
      "4x4/Dense1                  513         (?, 1)                  (512, 1)                \n",
      "scores_out                  -           (?, 1)                  -                       \n",
      "labels_out                  -           (?, 0)                  -                       \n",
      "---                         ---         ---                     ---                     \n",
      "Total                       23087249                                                    \n",
      "\n",
      "Building TensorFlow graph...\n"
     ]
    },
    {
     "name": "stdout",
     "output_type": "stream",
     "text": [
      "Setting up snapshot image grid...\n",
      "Setting up result dir...\n",
      "Saving results to results/000-pgan-celebahq100-preset-v2-1gpu-fp32\n",
      "Training...\n",
      "tick 1     kimg 140.3    lod 7.00  minibatch 128  time 11m 20s      sec/tick 680.2   sec/kimg 4.85    maintenance 39.7\n",
      "tick 2     kimg 260.6    lod 6.00  minibatch 128  time 29m 11s      sec/tick 1061.2  sec/kimg 8.82    maintenance 9.8\n",
      "tick 3     kimg 360.7    lod 5.00  minibatch 64   time 1h 03m 17s   sec/tick 2045.7  sec/kimg 20.44   maintenance 0.5\n",
      "tick 4     kimg 440.7    lod 4.66  minibatch 32   time 1h 49m 08s   sec/tick 2750.4  sec/kimg 34.38   maintenance 0.5\n",
      "tick 5     kimg 520.7    lod 4.00  minibatch 32   time 3h 04m 29s   sec/tick 4520.5  sec/kimg 56.51   maintenance 0.5\n"
     ]
    }
   ],
   "source": [
    "!python train.py"
   ]
  },
  {
   "cell_type": "markdown",
   "metadata": {},
   "source": [
    "=> Resume after training intrerruption from snapshot (.pkl files - automatically generated every 10 ticks/epochs):\n",
    "Change parameters in train.py (line 145):\n",
    "resume_run_id           = './results/full-path-to-snapshot-002705.pkl',  \n",
    "resume_snapshot         = None,\n",
    "resume_kimg             = 2705.9,    # taken from logfile (eg using snapshot after tick20: \"tick 20  kimg 2705.9\")"
   ]
  },
  {
   "cell_type": "markdown",
   "metadata": {},
   "source": [
    "## Continue training\n",
    "Change parameters in train.py (line 145): \n",
    "\n",
    "resume_run_id = None, # './results/000-pgan-celebahq100-preset-v2-1gpu-fp32/network-snapshot-000760.pkl',\n",
    "\n",
    "resume_snapshot = None, \n",
    "\n",
    "resume_kimg = 760.8, # taken from logfile\n",
    "\n",
    "=> only changing resume_run_id = 000 does not work!"
   ]
  },
  {
   "cell_type": "code",
   "execution_count": null,
   "metadata": {},
   "outputs": [
    {
     "name": "stdout",
     "output_type": "stream",
     "text": [
      "/usr/local/lib/python3.5/dist-packages/h5py/__init__.py:36: FutureWarning: Conversion of the second argument of issubdtype from `float` to `np.floating` is deprecated. In future, it will be treated as `np.float64 == np.dtype(float).type`.\n",
      "  from ._conv import register_converters as _register_converters\n",
      "Initializing TensorFlow...\n",
      "Running train.train_progressive_gan()...\n",
      "Streaming data using dataset.TFRecordDataset...\n",
      "Dataset shape = [3, 1024, 1024]\n",
      "Dynamic range = [0, 255]\n",
      "Label size    = 0\n",
      "Loading networks from \"results/000-pgan-celebahq100-preset-v2-1gpu-fp32/network-snapshot-000760.pkl\"...\n",
      "\n",
      "G                           Params      OutputShape             WeightShape             \n",
      "---                         ---         ---                     ---                     \n",
      "latents_in                  -           (?, 512)                -                       \n",
      "labels_in                   -           (?, 0)                  -                       \n",
      "lod                         -           ()                      -                       \n",
      "4x4/PixelNorm               -           (?, 512)                -                       \n",
      "4x4/Dense                   4194816     (512, 8192)             (512, 8192)             \n",
      "4x4/Conv                    2359808     (512,)                  (3, 3, 512, 512)        \n",
      "ToRGB_lod8                  1539        (3,)                    (1, 1, 512, 3)          \n",
      "8x8/Conv0_up                2359808     (3, 3, 512, 512)        (3, 3, 512, 512)        \n",
      "8x8/Conv1                   2359808     (512,)                  (3, 3, 512, 512)        \n",
      "ToRGB_lod7                  1539        (1, 1, 512, 3)          (1, 1, 512, 3)          \n",
      "Upscale2D                   -           (?, 3, 8, 8)            -                       \n",
      "Grow_lod7                   -           (?, 3, 8, 8)            -                       \n",
      "16x16/Conv0_up              2359808     (3, 3, 512, 512)        (3, 3, 512, 512)        \n",
      "16x16/Conv1                 2359808     (3, 3, 512, 512)        (3, 3, 512, 512)        \n",
      "ToRGB_lod6                  1539        (1, 1, 512, 3)          (1, 1, 512, 3)          \n",
      "Upscale2D_1                 -           (?, 3, 16, 16)          -                       \n",
      "Grow_lod6                   -           (?, 3, 16, 16)          -                       \n",
      "32x32/Conv0_up              2359808     (3, 3, 512, 512)        (3, 3, 512, 512)        \n",
      "32x32/Conv1                 2359808     (3, 3, 512, 512)        (3, 3, 512, 512)        \n",
      "ToRGB_lod5                  1539        (3,)                    (1, 1, 512, 3)          \n",
      "Upscale2D_2                 -           (?, 3, 32, 32)          -                       \n",
      "Grow_lod5                   -           (?, 3, 32, 32)          -                       \n",
      "64x64/Conv0_up              1179904     (256,)                  (3, 3, 256, 512)        \n",
      "64x64/Conv1                 590080      (3, 3, 256, 256)        (3, 3, 256, 256)        \n",
      "ToRGB_lod4                  771         (3,)                    (1, 1, 256, 3)          \n",
      "Upscale2D_3                 -           (?, 3, 64, 64)          -                       \n",
      "Grow_lod4                   -           (?, 3, 64, 64)          -                       \n",
      "128x128/Conv0_up            295040      (128,)                  (3, 3, 128, 256)        \n",
      "128x128/Conv1               147584      (128,)                  (3, 3, 128, 128)        \n",
      "ToRGB_lod3                  387         (3,)                    (1, 1, 128, 3)          \n",
      "Upscale2D_4                 -           (?, 3, 128, 128)        -                       \n",
      "Grow_lod3                   -           (?, 3, 128, 128)        -                       \n",
      "256x256/Conv0_up            73792       (64,)                   (3, 3, 64, 128)         \n",
      "256x256/Conv1               36928       (3, 3, 64, 64)          (3, 3, 64, 64)          \n",
      "ToRGB_lod2                  195         (3,)                    (1, 1, 64, 3)           \n",
      "Upscale2D_5                 -           (?, 3, 256, 256)        -                       \n",
      "Grow_lod2                   -           (?, 3, 256, 256)        -                       \n",
      "512x512/Conv0_up            18464       (32,)                   (3, 3, 32, 64)          \n",
      "512x512/Conv1               9248        (32,)                   (3, 3, 32, 32)          \n",
      "ToRGB_lod1                  99          (1, 1, 32, 3)           (1, 1, 32, 3)           \n",
      "Upscale2D_6                 -           (?, 3, 512, 512)        -                       \n",
      "Grow_lod1                   -           (?, 3, 512, 512)        -                       \n",
      "1024x1024/Conv0_up          4624        (3, 3, 16, 32)          (3, 3, 16, 32)          \n",
      "1024x1024/Conv1             2320        (16,)                   (3, 3, 16, 16)          \n",
      "ToRGB_lod0                  51          (1, 1, 16, 3)           (1, 1, 16, 3)           \n",
      "Upscale2D_7                 -           (?, 3, 1024, 1024)      -                       \n",
      "Grow_lod0                   -           (?, 3, 1024, 1024)      -                       \n",
      "images_out                  -           (?, 3, 1024, 1024)      -                       \n",
      "---                         ---         ---                     ---                     \n",
      "Total                       23079115                                                    \n",
      "\n",
      "\n",
      "D                           Params      OutputShape             WeightShape             \n",
      "---                         ---         ---                     ---                     \n",
      "images_in                   -           (?, 3, 1024, 1024)      -                       \n",
      "lod                         -           ()                      -                       \n",
      "FromRGB_lod0                64          (16,)                   (1, 1, 3, 16)           \n",
      "1024x1024/Conv0             2320        (16,)                   (3, 3, 16, 16)          \n",
      "1024x1024/Conv1_down        4640        (32,)                   (3, 3, 16, 32)          \n",
      "Downscale2D                 -           (?, 3, 512, 512)        -                       \n",
      "FromRGB_lod1                128         (1, 1, 3, 32)           (1, 1, 3, 32)           \n",
      "Grow_lod0                   -           (?, 32, 512, 512)       -                       \n",
      "512x512/Conv0               9248        (3, 3, 32, 32)          (3, 3, 32, 32)          \n",
      "512x512/Conv1_down          18496       (64,)                   (3, 3, 32, 64)          \n",
      "Downscale2D_1               -           (?, 3, 256, 256)        -                       \n",
      "FromRGB_lod2                256         (64,)                   (1, 1, 3, 64)           \n",
      "Grow_lod1                   -           (?, 64, 256, 256)       -                       \n",
      "256x256/Conv0               36928       (3, 3, 64, 64)          (3, 3, 64, 64)          \n",
      "256x256/Conv1_down          73856       (128,)                  (3, 3, 64, 128)         \n",
      "Downscale2D_2               -           (?, 3, 128, 128)        -                       \n",
      "FromRGB_lod3                512         (128,)                  (1, 1, 3, 128)          \n",
      "Grow_lod2                   -           (?, 128, 128, 128)      -                       \n",
      "128x128/Conv0               147584      (128,)                  (3, 3, 128, 128)        \n",
      "128x128/Conv1_down          295168      (3, 3, 128, 256)        (3, 3, 128, 256)        \n",
      "Downscale2D_3               -           (?, 3, 64, 64)          -                       \n",
      "FromRGB_lod4                1024        (1, 1, 3, 256)          (1, 1, 3, 256)          \n",
      "Grow_lod3                   -           (?, 256, 64, 64)        -                       \n",
      "64x64/Conv0                 590080      (256,)                  (3, 3, 256, 256)        \n",
      "64x64/Conv1_down            1180160     (3, 3, 256, 512)        (3, 3, 256, 512)        \n",
      "Downscale2D_4               -           (?, 3, 32, 32)          -                       \n",
      "FromRGB_lod5                2048        (512,)                  (1, 1, 3, 512)          \n",
      "Grow_lod4                   -           (?, 512, 32, 32)        -                       \n",
      "32x32/Conv0                 2359808     (512,)                  (3, 3, 512, 512)        \n",
      "32x32/Conv1_down            2359808     (3, 3, 512, 512)        (3, 3, 512, 512)        \n",
      "Downscale2D_5               -           (?, 3, 16, 16)          -                       \n",
      "FromRGB_lod6                2048        (1, 1, 3, 512)          (1, 1, 3, 512)          \n",
      "Grow_lod5                   -           (?, 512, 16, 16)        -                       \n",
      "16x16/Conv0                 2359808     (3, 3, 512, 512)        (3, 3, 512, 512)        \n",
      "16x16/Conv1_down            2359808     (512,)                  (3, 3, 512, 512)        \n",
      "Downscale2D_6               -           (?, 3, 8, 8)            -                       \n",
      "FromRGB_lod7                2048        (512,)                  (1, 1, 3, 512)          \n",
      "Grow_lod6                   -           (?, 512, 8, 8)          -                       \n",
      "8x8/Conv0                   2359808     (512,)                  (3, 3, 512, 512)        \n",
      "8x8/Conv1_down              2359808     (512,)                  (3, 3, 512, 512)        \n",
      "Downscale2D_7               -           (?, 3, 4, 4)            -                       \n",
      "FromRGB_lod8                2048        (512,)                  (1, 1, 3, 512)          \n",
      "Grow_lod7                   -           (?, 512, 4, 4)          -                       \n",
      "4x4/MinibatchStddev         -           (?, 1, 4, 4)            -                       \n",
      "4x4/Conv                    2364416     (3, 3, 513, 512)        (3, 3, 513, 512)        \n",
      "4x4/Dense0                  4194816     (512,)                  (8192, 512)             \n",
      "4x4/Dense1                  513         (512, 1)                (512, 1)                \n",
      "scores_out                  -           (?, 1)                  -                       \n",
      "labels_out                  -           (?, 0)                  -                       \n",
      "---                         ---         ---                     ---                     \n",
      "Total                       23087249                                                    \n",
      "\n",
      "Building TensorFlow graph...\n"
     ]
    },
    {
     "name": "stdout",
     "output_type": "stream",
     "text": [
      "Setting up snapshot image grid...\n",
      "Setting up result dir...\n",
      "Saving results to results/001-pgan-celebahq100-preset-v2-1gpu-fp32\n",
      "Training...\n"
     ]
    }
   ],
   "source": [
    "!python train.py"
   ]
  },
  {
   "cell_type": "code",
   "execution_count": null,
   "metadata": {},
   "outputs": [],
   "source": []
  }
 ],
 "metadata": {
  "kernelspec": {
   "display_name": "Python 3",
   "language": "python",
   "name": "python3"
  },
  "language_info": {
   "codemirror_mode": {
    "name": "ipython",
    "version": 3
   },
   "file_extension": ".py",
   "mimetype": "text/x-python",
   "name": "python",
   "nbconvert_exporter": "python",
   "pygments_lexer": "ipython3",
   "version": "3.5.2"
  }
 },
 "nbformat": 4,
 "nbformat_minor": 2
}
